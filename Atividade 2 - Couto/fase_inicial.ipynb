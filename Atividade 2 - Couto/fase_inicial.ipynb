{
 "cells": [
  {
   "cell_type": "code",
   "execution_count": 3,
   "metadata": {},
   "outputs": [
    {
     "name": "stdout",
     "output_type": "stream",
     "text": [
      "   MedInc  HouseAge  AveRooms  AveBedrms  Population  AveOccup  Latitude  \\\n",
      "0  8.3252      41.0  6.984127   1.023810       322.0  2.555556     37.88   \n",
      "1  8.3014      21.0  6.238137   0.971880      2401.0  2.109842     37.86   \n",
      "2  7.2574      52.0  8.288136   1.073446       496.0  2.802260     37.85   \n",
      "3  5.6431      52.0  5.817352   1.073059       558.0  2.547945     37.85   \n",
      "4  3.8462      52.0  6.281853   1.081081       565.0  2.181467     37.85   \n",
      "\n",
      "   Longitude  \n",
      "0    -122.23  \n",
      "1    -122.22  \n",
      "2    -122.24  \n",
      "3    -122.25  \n",
      "4    -122.25  \n",
      "Coeficientes: [-1.03213628e-01  3.34835312e-04  1.92755530e-01  1.17158235e-06\n",
      "  3.31582843e-04 -5.72317373e-02 -4.80339193e-02]\n",
      "\n",
      "Intercepto: -3.266694528274142\n",
      "\n",
      "Previsão para o novo conjunto de dados: [1.2800941]\n",
      "\n",
      "Coeficiente de correlação (R²): 0.8570406365285332\n",
      "\n",
      "Erro médio quadrático (MSE): 0.032105902314175\n",
      "\n",
      "Teste F - Estatística F: [7.97421380e+01 1.25507930e+02 5.26664688e+04 9.08357498e+01\n",
      " 7.88551336e-01 1.00812111e+02 3.67571965e+00]\n",
      "\n",
      "Teste F - Valor p: [4.61556824e-19 4.77922304e-29 0.00000000e+00 1.72843476e-21\n",
      " 3.74548878e-01 1.14617834e-23 5.52242049e-02] \n",
      "\n"
     ]
    },
    {
     "name": "stderr",
     "output_type": "stream",
     "text": [
      "C:\\Users\\vinic\\AppData\\Local\\Packages\\PythonSoftwareFoundation.Python.3.11_qbz5n2kfra8p0\\LocalCache\\local-packages\\Python311\\site-packages\\sklearn\\base.py:493: UserWarning: X does not have valid feature names, but LinearRegression was fitted with feature names\n",
      "  warnings.warn(\n"
     ]
    }
   ],
   "source": [
    "import pandas as pd\n",
    "import numpy as np\n",
    "from sklearn.linear_model import LinearRegression\n",
    "from sklearn.metrics import r2_score, mean_squared_error\n",
    "from sklearn.feature_selection import f_regression\n",
    "\n",
    "## Criando o DataFrame\n",
    "# Carregando o Dataset California Houses\n",
    "from sklearn.datasets import fetch_california_housing\n",
    "california = fetch_california_housing()\n",
    "# Convertendo o dataset em um dataframe para usar Pandas\n",
    "dataset = pd.DataFrame(california.data, columns = california.feature_names)\n",
    "\n",
    "print(dataset.head(5))\n",
    "\n",
    "# Criando as variáveis explicativas\n",
    "X = dataset[['MedInc', 'HouseAge', 'AveRooms', 'Population', 'AveOccup', 'Latitude', 'Longitude']]\n",
    "\n",
    "# Criando a variável dependente (AveRooms)\n",
    "y = dataset['AveBedrms']\n",
    "\n",
    "# Criando e ajustando o modelo de regressão linear múltipla\n",
    "modelo = LinearRegression()\n",
    "modelo.fit(X, y)\n",
    "\n",
    "# Obtendo os coeficientes de regressão e o intercepto\n",
    "coefs = modelo.coef_\n",
    "intercepto = modelo.intercept_\n",
    "\n",
    "# Coeficiente de correlação (R²) e Erro médio quadrático (MSE)\n",
    "r2 = r2_score(y, modelo.predict(X))\n",
    "mse = mean_squared_error(y, modelo.predict(X))\n",
    "\n",
    "# Teste F\n",
    "f_statistic, pval = f_regression(X, y)\n",
    "\n",
    "# Previsão para um novo conjunto de dados\n",
    "x_novo = np.array([[10, 40, 10, 288, 3, 37.34, -120.2]])\n",
    "y_predito = modelo.predict(x_novo)\n",
    "\n",
    "# Imprimindo os resultados\n",
    "print(\"\\nCoeficientes:\", coefs)\n",
    "print(\"\\nIntercepto:\", intercepto)\n",
    "print(\"\\nPrevisão para o novo conjunto de dados:\", y_predito)\n",
    "print(\"\\nCoeficiente de correlação (R²):\", r2)\n",
    "print(\"\\nErro médio quadrático (MSE):\", mse)\n",
    "print(\"\\nTeste F - Estatística F:\", f_statistic)\n",
    "print(\"\\nTeste F - Valor p:\", pval, '\\n')"
   ]
  }
 ],
 "metadata": {
  "kernelspec": {
   "display_name": "Python 3",
   "language": "python",
   "name": "python3"
  },
  "language_info": {
   "codemirror_mode": {
    "name": "ipython",
    "version": 3
   },
   "file_extension": ".py",
   "mimetype": "text/x-python",
   "name": "python",
   "nbconvert_exporter": "python",
   "pygments_lexer": "ipython3",
   "version": "3.11.8"
  }
 },
 "nbformat": 4,
 "nbformat_minor": 2
}
